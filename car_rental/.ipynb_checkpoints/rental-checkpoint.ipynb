{
 "cells": [
  {
   "cell_type": "code",
   "execution_count": 4,
   "metadata": {},
   "outputs": [],
   "source": [
    "import numpy as np\n",
    "from scipy.stats import poisson\n",
    "from tqdm import tqdm_notebook"
   ]
  },
  {
   "cell_type": "code",
   "execution_count": 5,
   "metadata": {},
   "outputs": [],
   "source": [
    "requested_1 = 3\n",
    "requested_2 = 4\n",
    "returned_1 = 3\n",
    "returned_2 = 2\n",
    "mu = [requested_1, requested_2, returned_1, returned_2]\n",
    "\n",
    "y = 0.9\n",
    "\n",
    "max_cars = 20\n",
    "max_overtake = 5\n",
    "\n",
    "rew_down = -2\n",
    "rew_up = 10"
   ]
  },
  {
   "cell_type": "code",
   "execution_count": 6,
   "metadata": {},
   "outputs": [],
   "source": [
    "def car_interval(mu, e):\n",
    "    for i in range(max_cars+1):\n",
    "        if poisson.pmf(i, mu) > e:\n",
    "            start = i\n",
    "            for j in range(i, max_cars+1):\n",
    "                if poisson.pmf(j, mu) < e:\n",
    "                    end = j-1\n",
    "                    return range(start, end+1)\n",
    "                elif j == max_cars:\n",
    "                    return range(start, max_cars+1)\n",
    "    return range(0, 0)"
   ]
  },
  {
   "cell_type": "code",
   "execution_count": 7,
   "metadata": {},
   "outputs": [],
   "source": [
    "# Расмматриваем количество арендованных и возвращенных машин, для которых вероятность появления больше e\n",
    "e = 0.01\n",
    "int_req_1 = car_interval(requested_1, e)\n",
    "int_ret_1 = car_interval(returned_1, e)\n",
    "int_req_2 = car_interval(requested_2, e)\n",
    "int_ret_2 = car_interval(returned_2, e)"
   ]
  },
  {
   "cell_type": "code",
   "execution_count": 8,
   "metadata": {},
   "outputs": [],
   "source": [
    "values = np.zeros((max_cars + 1, max_cars + 1))\n",
    "policy = values.copy().astype(int)"
   ]
  },
  {
   "cell_type": "code",
   "execution_count": 15,
   "metadata": {},
   "outputs": [],
   "source": [
    "# оценка ценности\n",
    "\n",
    "def new_value(state, action, values):\n",
    "    \n",
    "    new_state = [min(state[0]-action, max_cars), min(state[1]+action, max_cars)] \n",
    "    v = abs(action)*rew_down # затраты на перегон машин\n",
    "    \n",
    "    for out_1 in int_req_1:\n",
    "        for out_2 in int_req_2:\n",
    "            for in_1 in int_ret_1:\n",
    "                for in_2 in int_ret_2:\n",
    "                    n = [out_1, out_2, in_1, in_2] # количество арендованных и возвращенных машин в 1 и 2 офисах\n",
    "                    p = np.prod(poisson.pmf(n, mu)) # вероятность комбинации n\n",
    "            \n",
    "                    # сколько машин было сдано в аренду в 1 и 2 офисах\n",
    "                    cars_req1 = min(out_1, new_state[0])\n",
    "                    cars_req2 = min(out_2, new_state[1])\n",
    "            \n",
    "                    # прибыль за аренду\n",
    "                    reward = (cars_req1 + cars_req2) * rew_up\n",
    "                    \n",
    "                    # сколько машин осталось после возвращения машин\n",
    "                    cars_ret1 = min(new_state[0] - cars_req1 + in_1, max_cars)\n",
    "                    cars_ret2 = min(new_state[1] - cars_req2 + in_1, max_cars)\n",
    "\n",
    "                    v += p * (reward + y * values[cars_ret1, cars_ret2])\n",
    "    return v"
   ]
  },
  {
   "cell_type": "code",
   "execution_count": 20,
   "metadata": {},
   "outputs": [],
   "source": [
    "# оценивание стратегии\n",
    "\n",
    "def policy_evoluation(values, Q):\n",
    "    dif = 1\n",
    "    while dif > Q:\n",
    "        old_values = values.copy()\n",
    "        print('policy_evoluation')\n",
    "        for i in tqdm_notebook(range(values.shape[0])):\n",
    "            for j in range(values.shape[1]):\n",
    "                action = policy[i, j]\n",
    "                values[i, j] = new_value([i, j], action, values)\n",
    "        dif = abs(old_values-values).max()\n",
    "        print(dif, '\\n')\n",
    "    return values"
   ]
  },
  {
   "cell_type": "code",
   "execution_count": 21,
   "metadata": {},
   "outputs": [],
   "source": [
    "# улучшение стратегии\n",
    "\n",
    "def policy_improvement(policy, values):\n",
    "    old_policy = policy.copy()\n",
    "    print('policy_improvement')\n",
    "    for i in tqdm_notebook(range(policy.shape[0])):\n",
    "        for j in range(policy.shape[1]):\n",
    "            \n",
    "            act_min = max(-j, -5)\n",
    "            act_max = min(5, i) + 1\n",
    "            all_values = {}\n",
    "            \n",
    "            for action in range(act_min, act_max):\n",
    "                all_values[action] = new_value([i, j], action, values)\n",
    "            new_action = max(all_values, key=all_values.get)\n",
    "            policy[i, j] = new_action\n",
    "    if policy == old_policy:\n",
    "        return True\n",
    "    else:\n",
    "        return False"
   ]
  },
  {
   "cell_type": "code",
   "execution_count": null,
   "metadata": {},
   "outputs": [
    {
     "name": "stdout",
     "output_type": "stream",
     "text": [
      "итерация  1\n",
      "policy_evoluation\n"
     ]
    },
    {
     "name": "stderr",
     "output_type": "stream",
     "text": [
      "<ipython-input-20-542fb765e823>:8: TqdmDeprecationWarning: This function will be removed in tqdm==5.0.0\n",
      "Please use `tqdm.notebook.tqdm` instead of `tqdm.tqdm_notebook`\n",
      "  for i in tqdm_notebook(range(values.shape[0])):\n"
     ]
    },
    {
     "data": {
      "application/vnd.jupyter.widget-view+json": {
       "model_id": "4584607e4c9e4e17a8fbd837d6d46e41",
       "version_major": 2,
       "version_minor": 0
      },
      "text/plain": [
       "HBox(children=(HTML(value=''), FloatProgress(value=0.0, max=21.0), HTML(value='')))"
      ]
     },
     "metadata": {},
     "output_type": "display_data"
    }
   ],
   "source": [
    "for i in range(5):\n",
    "    print('итерация ', i+1)\n",
    "    Q = 0.01\n",
    "    values = policy_evoluation(values, Q)\n",
    "    if policy_improvement(policy, values):\n",
    "        break"
   ]
  },
  {
   "cell_type": "markdown",
   "metadata": {},
   "source": [
    "![avatar](s2.png)"
   ]
  },
  {
   "cell_type": "code",
   "execution_count": null,
   "metadata": {},
   "outputs": [],
   "source": []
  }
 ],
 "metadata": {
  "kernelspec": {
   "display_name": "Python 3",
   "language": "python",
   "name": "python3"
  },
  "language_info": {
   "codemirror_mode": {
    "name": "ipython",
    "version": 3
   },
   "file_extension": ".py",
   "mimetype": "text/x-python",
   "name": "python",
   "nbconvert_exporter": "python",
   "pygments_lexer": "ipython3",
   "version": "3.8.5"
  }
 },
 "nbformat": 4,
 "nbformat_minor": 4
}
