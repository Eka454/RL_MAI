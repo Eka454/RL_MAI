{
 "cells": [
  {
   "cell_type": "code",
   "execution_count": 1,
   "metadata": {},
   "outputs": [],
   "source": [
    "import numpy as np\n",
    "from tqdm.notebook import tqdm\n",
    "from random import choice, random\n",
    "from collections import defaultdict\n",
    "import matplotlib.pyplot as plt\n",
    "import seaborn as sns"
   ]
  },
  {
   "cell_type": "markdown",
   "metadata": {},
   "source": [
    "<img src=\"sarsa.PNG\">"
   ]
  },
  {
   "cell_type": "markdown",
   "metadata": {},
   "source": [
    "<img src=\"Qlearning.PNG\">"
   ]
  },
  {
   "cell_type": "code",
   "execution_count": 2,
   "metadata": {},
   "outputs": [],
   "source": [
    "class Cliff:\n",
    "    def __init__(self):\n",
    "        self.Q = defaultdict(lambda: np.zeros(4))\n",
    "        self.start = (3,0)\n",
    "        self.goal = (3, 11)\n",
    "        self.rewards = self.rewards_init()\n",
    "        \n",
    "        \n",
    "    def rewards_init(self):\n",
    "        \n",
    "        rewards = np.zeros((4, 12))\n",
    "        rewards[...] = -1\n",
    "        rewards[-1, 1:-1] = -100\n",
    "        rewards[self.goal] = 0\n",
    "        \n",
    "        return rewards\n",
    "\n",
    "    def action(self, s, e):\n",
    "        \n",
    "        if random() < e:\n",
    "            a = choice([0, 1, 2, 3])\n",
    "        else:\n",
    "            a = np.argmax(self.Q[s])\n",
    "        \n",
    "        return a\n",
    "\n",
    "    def reward(self, s_next):\n",
    "        \n",
    "        return self.rewards[s_next]\n",
    "\n",
    "    def state(self, s, a):\n",
    "\n",
    "        if a == 0: # up\n",
    "             s_next = (s[0]-1, s[1])\n",
    "        elif a == 1: # down\n",
    "             s_next = (s[0]+1, s[1])\n",
    "        elif a == 2: # right \n",
    "             s_next = (s[0], s[1]+1)\n",
    "        elif a == 3: # left\n",
    "             s_next = (s[0], s[1]-1)\n",
    "\n",
    "        if (s_next[0] > 3 or s_next[1] > 11 or s_next[0] < 0 or s_next[1] < 0):\n",
    "            return s\n",
    "        else:\n",
    "            return s_next\n",
    "    \n",
    "    def SARSA(self, r, s, s_next, a, a_next, alpha):\n",
    "\n",
    "        self.Q[s][a] = self.Q[s][a] + alpha*(r + self.Q[s_next][a_next] - self.Q[s][a])\n",
    "\n",
    "        return self.Q\n",
    "\n",
    "    def Qlearning(self, r, s, s_next, a, y, alpha):\n",
    "\n",
    "        self.Q[s][a] = self.Q[s][a] + alpha*(r + y*max(self.Q[s_next])-self.Q[s][a])\n",
    "\n",
    "        return self.Q"
   ]
  },
  {
   "cell_type": "code",
   "execution_count": 3,
   "metadata": {},
   "outputs": [],
   "source": [
    "Qlearning = Cliff()\n",
    "SARSA = Cliff()\n",
    "alpha = 0.5\n",
    "y = 1\n",
    "e = 0.1"
   ]
  },
  {
   "cell_type": "code",
   "execution_count": 4,
   "metadata": {},
   "outputs": [
    {
     "data": {
      "application/vnd.jupyter.widget-view+json": {
       "model_id": "a9fd7864fcba45f7b32dba6079fec461",
       "version_major": 2,
       "version_minor": 0
      },
      "text/plain": [
       "HBox(children=(HTML(value=''), FloatProgress(value=0.0, max=10000.0), HTML(value='')))"
      ]
     },
     "metadata": {},
     "output_type": "display_data"
    },
    {
     "name": "stdout",
     "output_type": "stream",
     "text": [
      "\n"
     ]
    }
   ],
   "source": [
    "Qrewards = []\n",
    "for _ in tqdm(range(10000)):\n",
    "    state = Qlearning.start\n",
    "    reward = 0\n",
    "    r_sum = 0\n",
    "    while state != Qlearning.goal and reward != -100:\n",
    "        action = Qlearning.action(state, e)\n",
    "        s_next = Qlearning.state(state, action)\n",
    "        reward = Qlearning.reward(s_next)\n",
    "        Q = Qlearning.Qlearning(reward, state, s_next, action, y, alpha)\n",
    "        state = s_next\n",
    "        r_sum += reward\n",
    "    Qrewards.append(r_sum)"
   ]
  },
  {
   "cell_type": "code",
   "execution_count": 5,
   "metadata": {},
   "outputs": [
    {
     "data": {
      "application/vnd.jupyter.widget-view+json": {
       "model_id": "6fdb13645b184a77926f6efb1639ba73",
       "version_major": 2,
       "version_minor": 0
      },
      "text/plain": [
       "HBox(children=(HTML(value=''), FloatProgress(value=0.0, max=10000.0), HTML(value='')))"
      ]
     },
     "metadata": {},
     "output_type": "display_data"
    },
    {
     "name": "stdout",
     "output_type": "stream",
     "text": [
      "\n"
     ]
    }
   ],
   "source": [
    "Srewards = []\n",
    "for i in tqdm(range(10000)):\n",
    "    if i // 100 == 0:\n",
    "        e = e/2\n",
    "    state = SARSA.start\n",
    "    reward = 0\n",
    "    action = SARSA.action(state, e)\n",
    "    r_sum = 0\n",
    "    while state != SARSA.goal and reward != -100:\n",
    "        s_next = SARSA.state(state, action)\n",
    "        a_next = SARSA.action(s_next, e)\n",
    "        reward = SARSA.reward(s_next)\n",
    "        Q = SARSA.SARSA(reward, state, s_next, action, a_next, alpha)\n",
    "        state = s_next\n",
    "        action = a_next\n",
    "        r_sum += reward\n",
    "    Srewards.append(r_sum)"
   ]
  },
  {
   "cell_type": "code",
   "execution_count": 6,
   "metadata": {},
   "outputs": [
    {
     "data": {
      "image/png": "[encoded data removed]",
      "text/plain": [
       "<Figure size 432x288 with 1 Axes>"
      ]
     },
     "metadata": {
      "needs_background": "light"
     },
     "output_type": "display_data"
    }
   ],
   "source": [
    "t = np.arange(0, len(Srewards))\n",
    "fig, ax = plt.subplots()\n",
    "ax.set_xlabel('Эпизодв')\n",
    "ax.set_ylabel('Суммарное вознаграждение')\n",
    "line1, = ax.plot(t, Qrewards, label='Qlearning')\n",
    "\n",
    "line2, = ax.plot(t, Srewards, label='SARSA')\n",
    "\n",
    "ax.legend()\n",
    "plt.show()"
   ]
  },
  {
   "cell_type": "code",
   "execution_count": 7,
   "metadata": {},
   "outputs": [],
   "source": [
    "Qpolicy = dict((k,np.argmax(v)) for k, v in Qlearning.Q.items())\n",
    "Spolicy = dict((k,np.argmax(v)) for k, v in SARSA.Q.items())"
   ]
  },
  {
   "cell_type": "code",
   "execution_count": 9,
   "metadata": {},
   "outputs": [],
   "source": [
    "drow_q = np.zeros((4,12))\n",
    "for state, action in dict(Qpolicy).items():\n",
    "    drow_q[state[0], state[1]] = action\n",
    "drow_q = drow_q[::-1]\n",
    "\n",
    "drow_s = np.zeros((4,12))\n",
    "for state, action in dict(Spolicy).items():\n",
    "    drow_s[state[0], state[1]] = action\n",
    "drow_s = drow_s[::-1]"
   ]
  },
  {
   "cell_type": "code",
   "execution_count": 10,
   "metadata": {},
   "outputs": [
    {
     "data": {
      "text/plain": [
       "Text(0.5, 1.0, 'Qlearning')"
      ]
     },
     "execution_count": 10,
     "metadata": {},
     "output_type": "execute_result"
    },
    {
     "data": {
      "image/png": "[encoded data removed]",
      "text/plain": [
       "<Figure size 720x360 with 2 Axes>"
      ]
     },
     "metadata": {
      "needs_background": "light"
     },
     "output_type": "display_data"
    }
   ],
   "source": [
    "_, axes = plt.subplots(figsize=(10, 5))\n",
    "fig = sns.heatmap(np.flipud(drow_q), annot= True, square = True, linewidths = 0.1)\n",
    "fig.set_title('Qlearning', fontsize=14)"
   ]
  },
  {
   "cell_type": "code",
   "execution_count": 11,
   "metadata": {},
   "outputs": [
    {
     "data": {
      "text/plain": [
       "Text(0.5, 1.0, 'SARSA')"
      ]
     },
     "execution_count": 11,
     "metadata": {},
     "output_type": "execute_result"
    },
    {
     "data": {
      "image/png": "[encoded data removed]",
      "text/plain": [
       "<Figure size 720x360 with 2 Axes>"
      ]
     },
     "metadata": {
      "needs_background": "light"
     },
     "output_type": "display_data"
    }
   ],
   "source": [
    "_, axes = plt.subplots(figsize=(10, 5))\n",
    "fig = sns.heatmap(np.flipud(drow_s), annot=True, square = True, linewidths = 0.1)\n",
    "fig.set_title('SARSA', fontsize=14)"
   ]
  },
  {
   "cell_type": "markdown",
   "metadata": {},
   "source": [
    " {0: 'up', 1: 'down', 2: 'right', 3: 'left'}"
   ]
  },
  {
   "cell_type": "code",
   "execution_count": null,
   "metadata": {},
   "outputs": [],
   "source": []
  }
 ],
 "metadata": {
  "kernelspec": {
   "display_name": "Python 3",
   "language": "python",
   "name": "python3"
  },
  "language_info": {
   "codemirror_mode": {
    "name": "ipython",
    "version": 3
   },
   "file_extension": ".py",
   "mimetype": "text/x-python",
   "name": "python",
   "nbconvert_exporter": "python",
   "pygments_lexer": "ipython3",
   "version": "3.8.5"
  }
 },
 "nbformat": 4,
 "nbformat_minor": 4
}
