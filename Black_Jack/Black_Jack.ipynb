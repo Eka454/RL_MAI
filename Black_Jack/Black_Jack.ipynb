{
 "cells": [
  {
   "cell_type": "code",
   "execution_count": 244,
   "metadata": {},
   "outputs": [],
   "source": [
    "from random import randint, random\n",
    "import numpy as np\n",
    "from collections import defaultdict\n",
    "from statistics import mean\n",
    "from tqdm.notebook import tqdm\n",
    "from collections import Counter"
   ]
  },
  {
   "cell_type": "markdown",
   "metadata": {},
   "source": [
    "<img src=\"algorithm.png\">"
   ]
  },
  {
   "cell_type": "code",
   "execution_count": 266,
   "metadata": {},
   "outputs": [],
   "source": [
    "class black_Jack:\n",
    "    def __init__(self):\n",
    "        '''\n",
    "            deck - бесконечная колода карт\n",
    "            p - стратегия для всех состояний. 0 - \"еще\", 1 - \"хватит\"\n",
    "                Состояние зависит от трех факторов (наличие играющего туза (0, 1); \n",
    "                                                    открытая карта сдающего (1-10); \n",
    "                                                    количество очков (4-21))\n",
    "            Q - оценка функции ценности. Зависит от состония и действия\n",
    "            returns - сохраняет доходы для каждой пары состояние-действие после каждого эпизода\n",
    "        '''\n",
    "        self.deck = [2, 3, 4, 5, 6, 7, 8, 9, 10, 10, 10, 10, 1] \n",
    "        self.Q =  defaultdict(lambda: [0.0, 0.0])\n",
    "        self.p = defaultdict(lambda: 0)\n",
    "        self.returns = defaultdict(lambda: (list(), list()))\n",
    "    \n",
    "    def start(self, dealer_card):\n",
    "        # принимает на вход значение карты сдающего и возвращает начальное значение состояния\n",
    "        \n",
    "        card1 = self.deck[randint(0,len(deck)-1)]\n",
    "        card2 = self.deck[randint(0,len(deck)-1)]\n",
    "        \n",
    "        # оценка туза\n",
    "        T = 0\n",
    "        if 1 in [card1, card2]:\n",
    "            T = self.playing_T(sum([card1, card2])-1)\n",
    "            \n",
    "        # подсчет очков\n",
    "        points = sum([card1, card2]) + T*10\n",
    "        \n",
    "        return (T, dealer_card, points)\n",
    "    \n",
    "    def playing_T(self, points):\n",
    "        if points + 11 <= 21:\n",
    "            return 1\n",
    "        return 0\n",
    "    \n",
    "    def play(self, dealer_card):\n",
    "        S_A = []\n",
    "        s = self.start(dealer_card)\n",
    "        points = s[2]\n",
    "        T = s[0]\n",
    "        \n",
    "        while True:\n",
    "            a = self.p[s]\n",
    "            \n",
    "            # action 0 - взять еще карту\n",
    "            if a == 0:\n",
    "                another_card = self.deck[randint(0,len(deck)-1)]\n",
    "                \n",
    "                # оценка туза\n",
    "                if T == 0 and another_card == 1:\n",
    "                    T = self.playing_T(points)\n",
    "                    another_card += T*10\n",
    "                \n",
    "                #подсчет очков\n",
    "                points += another_card\n",
    "                \n",
    "                # если перебор, то переоцениваем туза\n",
    "                if points > 21 and T == 1:\n",
    "                    points -= 10\n",
    "                    T = 0\n",
    "            \n",
    "            S_A.append((s, a))\n",
    "            if a == 1:\n",
    "                return S_A, 0, points\n",
    "                \n",
    "            r = self.reward(points)\n",
    "            \n",
    "            if r != 0:\n",
    "                return S_A, r, points\n",
    "            \n",
    "            s = (T, dealer_card, points)\n",
    "    \n",
    "    def reward(self, points, p_dealer=0):\n",
    "        \n",
    "        # награда при action 0 (взять еще карту) - оценка количества очков\n",
    "        if p_dealer == 0:\n",
    "            if  points < 21:\n",
    "                return 0\n",
    "            if points == 21:\n",
    "                return 1\n",
    "            return -1\n",
    "        \n",
    "        # награда при action 1 (хватит) - сравнение количества очков с очками диллера\n",
    "        if points == p_dealer:\n",
    "            return 0\n",
    "        if points > p_dealer or p_dealer > 21:\n",
    "            return 1\n",
    "        return -1\n",
    "        \n",
    "    def policy_improvement(self, S_A, r, points=0, p_dealer=0, e=0.1):\n",
    "        \n",
    "        # подсчет последнего reward, если последний action был 1\n",
    "        if p_dealer:\n",
    "            r = self.reward(points, p_dealer)\n",
    "        \n",
    "        \n",
    "        S_A_set = set(S_A) # для оценки уникальных пар состояние-действие\n",
    "        for s, a in S_A_set:\n",
    "            self.returns[s][a].append(r) # доход равен награде, так как обесценивание = 1, а доход зависит только от конечной награды\n",
    "            self.Q[s][a] = mean(self.returns[s][a]) # средний доход для пары состояние-действие\n",
    "            A = np.argmax(self.Q[s]) # отбираем лучший action \n",
    "            if random() < e: # обновляем стратегию на лучший action с вероятностью 1-е\n",
    "                self.p[s] = 1-A\n",
    "            self.p[s] = A\n",
    "        \n",
    "        return self.p, r"
   ]
  },
  {
   "cell_type": "code",
   "execution_count": 267,
   "metadata": {},
   "outputs": [],
   "source": [
    "deck = [2, 3, 4, 5, 6, 7, 8, 9, 10, 10, 10, 10, 1] \n",
    "agent = black_Jack()\n",
    "R = []\n",
    "e = 0.5"
   ]
  },
  {
   "cell_type": "code",
   "execution_count": 268,
   "metadata": {},
   "outputs": [
    {
     "data": {
      "application/vnd.jupyter.widget-view+json": {
       "model_id": "898d71a0200c4ded977e8ec206d34177",
       "version_major": 2,
       "version_minor": 0
      },
      "text/plain": [
       "HBox(children=(HTML(value=''), FloatProgress(value=0.0, max=50000.0), HTML(value='')))"
      ]
     },
     "metadata": {},
     "output_type": "display_data"
    },
    {
     "name": "stdout",
     "output_type": "stream",
     "text": [
      "\n"
     ]
    }
   ],
   "source": [
    "for n in tqdm(range(50000)):\n",
    "    if n//1000 == 0:\n",
    "        e /= 2\n",
    "    e = 0.3\n",
    "    dealer_card = deck[randint(0,len(deck)-1)]\n",
    "    S_A, r, points = agent.play(dealer_card)\n",
    "    if r == 0:\n",
    "        p_dealer = dealer_card\n",
    "        while True:\n",
    "            p_dealer += deck[randint(0,len(deck)-1)]\n",
    "            if p_dealer > 17:\n",
    "                break\n",
    "        p, r = agent.policy_improvement(S_A, r, points, p_dealer, e=e)\n",
    "    p, r = agent.policy_improvement(S_A, r, e=e)\n",
    "    \n",
    "    R.append(r)"
   ]
  },
  {
   "cell_type": "code",
   "execution_count": 269,
   "metadata": {},
   "outputs": [
    {
     "data": {
      "text/plain": [
       "Counter({-1: 25951, 1: 21218, 0: 2831})"
      ]
     },
     "execution_count": 269,
     "metadata": {},
     "output_type": "execute_result"
    }
   ],
   "source": [
    "Counter(R)"
   ]
  },
  {
   "cell_type": "code",
   "execution_count": 202,
   "metadata": {},
   "outputs": [],
   "source": [
    "x, y, z = tuple(zip(*p))"
   ]
  },
  {
   "cell_type": "code",
   "execution_count": 207,
   "metadata": {},
   "outputs": [],
   "source": [
    "actions = p.values()"
   ]
  },
  {
   "cell_type": "code",
   "execution_count": null,
   "metadata": {},
   "outputs": [],
   "source": []
  }
 ],
 "metadata": {
  "kernelspec": {
   "display_name": "Python 3",
   "language": "python",
   "name": "python3"
  },
  "language_info": {
   "codemirror_mode": {
    "name": "ipython",
    "version": 3
   },
   "file_extension": ".py",
   "mimetype": "text/x-python",
   "name": "python",
   "nbconvert_exporter": "python",
   "pygments_lexer": "ipython3",
   "version": "3.8.5"
  }
 },
 "nbformat": 4,
 "nbformat_minor": 4
}
