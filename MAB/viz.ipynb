{
 "cells": [
  {
   "cell_type": "code",
   "execution_count": 1,
   "metadata": {
    "collapsed": true
   },
   "outputs": [],
   "source": [
    "%load_ext autoreload\n",
    "%autoreload 2"
   ]
  },
  {
   "cell_type": "code",
   "execution_count": 2,
   "outputs": [],
   "source": [
    "from numpy import random\n",
    "from stand import Stand\n",
    "from stats import Stats\n",
    "from agent import Agent"
   ],
   "metadata": {
    "collapsed": false,
    "pycharm": {
     "name": "#%%\n"
    }
   }
  },
  {
   "cell_type": "code",
   "execution_count": 3,
   "outputs": [
    {
     "name": "stderr",
     "output_type": "stream",
     "text": [
      "/Users/17dzat/Documents/institute/sudakov/RL_MAI/MAB/stats.py:20: RuntimeWarning: invalid value encountered in double_scalars\n",
      "  self.optimal_action_percent[exp_num][step_num] = self.optimal_n[exp_num] / step_num\n",
      "/Users/17dzat/Documents/institute/sudakov/RL_MAI/MAB/stats.py:20: RuntimeWarning: divide by zero encountered in double_scalars\n",
      "  self.optimal_action_percent[exp_num][step_num] = self.optimal_n[exp_num] / step_num\n"
     ]
    }
   ],
   "source": [
    "ARM_COUNT = 10\n",
    "STEPS = 100\n",
    "EXPS = 10\n",
    "Q_INIT = 0\n",
    "\n",
    "rewards = [random.uniform(10, 17) for _ in range(ARM_COUNT)]\n",
    "\n",
    "stand = Stand(Q_INIT, rewards)\n",
    "stats = Stats(stand, STEPS, EXPS)\n",
    "agent = Agent(stand, stats)\n",
    "\n",
    "agent.run(Q_INIT, EXPS, STEPS)"
   ],
   "metadata": {
    "collapsed": false,
    "pycharm": {
     "name": "#%%\n"
    }
   }
  },
  {
   "cell_type": "code",
   "execution_count": 7,
   "outputs": [
    {
     "data": {
      "text/plain": "{'num': 0,\n 'q': 14.860849370580778,\n 'Q': 14.883200906253213,\n 'num_of_pull': 934}"
     },
     "execution_count": 7,
     "metadata": {},
     "output_type": "execute_result"
    }
   ],
   "source": [
    "vars(stand.arms[0])"
   ],
   "metadata": {
    "collapsed": false,
    "pycharm": {
     "name": "#%%\n"
    }
   }
  }
 ],
 "metadata": {
  "kernelspec": {
   "display_name": "Python 3",
   "language": "python",
   "name": "python3"
  },
  "language_info": {
   "codemirror_mode": {
    "name": "ipython",
    "version": 2
   },
   "file_extension": ".py",
   "mimetype": "text/x-python",
   "name": "python",
   "nbconvert_exporter": "python",
   "pygments_lexer": "ipython2",
   "version": "2.7.6"
  }
 },
 "nbformat": 4,
 "nbformat_minor": 0
}