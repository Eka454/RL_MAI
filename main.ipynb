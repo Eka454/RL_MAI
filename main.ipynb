{
 "metadata": {
  "language_info": {
   "codemirror_mode": {
    "name": "ipython",
    "version": 3
   },
   "file_extension": ".py",
   "mimetype": "text/x-python",
   "name": "python",
   "nbconvert_exporter": "python",
   "pygments_lexer": "ipython3",
   "version": "3.8.5"
  },
  "orig_nbformat": 2,
  "kernelspec": {
   "name": "python3",
   "display_name": "Python 3",
   "language": "python"
  }
 },
 "nbformat": 4,
 "nbformat_minor": 2,
 "cells": [
  {
   "cell_type": "code",
   "execution_count": 1,
   "metadata": {},
   "outputs": [],
   "source": [
    "%load_ext autoreload\n",
    "%autoreload 2\n",
    "import matplotlib.pyplot as plt\n",
    "import numpy as np\n",
    "\n"
   ]
  },
  {
   "cell_type": "code",
   "execution_count": 2,
   "metadata": {},
   "outputs": [],
   "source": [
    "from agent import ConstantEpsilonFunction, QAgent, RandomAgent\n",
    "from tictacenv import TicTacEnvironment"
   ]
  },
  {
   "cell_type": "code",
   "execution_count": 6,
   "metadata": {},
   "outputs": [],
   "source": [
    "env = TicTacEnvironment()\n",
    "\n",
    "q_agent_policy = ConstantEpsilonFunction(0.1)\n",
    "q_agent = QAgent(1, \"\", q_agent_policy, lr=0.01)\n",
    "random_agent = RandomAgent(-1)\n",
    "\n",
    "agents = [q_agent, random_agent]\n",
    "num_epochs = 10_000\n",
    "\n",
    "for i in range(num_epochs):\n",
    "    agents = agents[::-1]\n",
    "    state = env.reset()\n",
    "    is_over = False\n",
    "    while not is_over:\n",
    "        for p in agents:\n",
    "            action = p.get_action(*state)\n",
    "            reward, state, is_over = env.step(*action)\n",
    "            p.set_reward(reward)\n",
    "            if is_over:\n",
    "                break"
   ]
  },
  {
   "cell_type": "code",
   "execution_count": 16,
   "metadata": {},
   "outputs": [],
   "source": [
    "from collections import defaultdict\n",
    "players = defaultdict(lambda: 0)\n",
    "\n",
    "for i in range(1000):\n",
    "    agents = agents[::-1]\n",
    "    state = env.reset()\n",
    "    is_over = False\n",
    "    while not is_over:\n",
    "        for p in agents:\n",
    "            action = p.get_action(*state, 1.0)\n",
    "            reward, state, is_over = env.step(*action)\n",
    "            if reward == 1:\n",
    "                players[p] += 1\n",
    "            # p.set_reward(reward)\n",
    "            if is_over:\n",
    "                break"
   ]
  },
  {
   "cell_type": "code",
   "execution_count": 17,
   "metadata": {},
   "outputs": [
    {
     "output_type": "execute_result",
     "data": {
      "text/plain": [
       "defaultdict(<function __main__.<lambda>()>,\n",
       "            {<agent.RandomAgent at 0x7fdd76be2b20>: 447,\n",
       "             <agent.QAgent at 0x7fdd74e628b0>: 434})"
      ]
     },
     "metadata": {},
     "execution_count": 17
    }
   ],
   "source": [
    "players"
   ]
  },
  {
   "cell_type": "code",
   "execution_count": null,
   "metadata": {},
   "outputs": [],
   "source": []
  }
 ]
}